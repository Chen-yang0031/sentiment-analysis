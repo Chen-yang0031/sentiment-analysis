{
 "cells": [
  {
   "cell_type": "code",
   "execution_count": 1,
   "metadata": {},
   "outputs": [
    {
     "name": "stderr",
     "output_type": "stream",
     "text": [
      "/home/yuqian/.pyenv/versions/3.6.5/envs/env3.6/lib/python3.6/site-packages/pandas/compat/__init__.py:84: UserWarning: Could not import the lzma module. Your installed Python is incomplete. Attempting to use lzma compression will result in a RuntimeError.\n",
      "  warnings.warn(msg)\n",
      "/home/yuqian/.pyenv/versions/3.6.5/envs/env3.6/lib/python3.6/site-packages/pandas/compat/__init__.py:84: UserWarning: Could not import the lzma module. Your installed Python is incomplete. Attempting to use lzma compression will result in a RuntimeError.\n",
      "  warnings.warn(msg)\n",
      "UsageError: Line magic function `%` not found.\n"
     ]
    }
   ],
   "source": [
    "import torch\n",
    "from torch.utils.data import TensorDataset, DataLoader, RandomSampler, SequentialSampler\n",
    "#from keras.preprocessing.sequence import pad_sequences\n",
    "from sklearn.model_selection import train_test_split\n",
    "from pytorch_pretrained_bert import BertTokenizer, BertConfig\n",
    "from pytorch_pretrained_bert import BertAdam, BertForSequenceClassification\n",
    "from tqdm import tqdm, trange\n",
    "import pandas as pd\n",
    "import io\n",
    "import numpy as np\n",
    "import matplotlib.pyplot as plt\n",
    "import gensim\n",
    "\n",
    "from random import randrange\n",
    "import re\n",
    "% matplotlib inline"
   ]
  },
  {
   "cell_type": "code",
   "execution_count": 2,
   "metadata": {},
   "outputs": [],
   "source": [
    "labeled = pd.read_csv(\"data/labeled_data.csv\")\n",
    "unlabeled = pd.read_csv(\"data/unlabeled_data.csv\")\n",
    "\n",
    "test = pd.read_csv(\"data/test_data.csv\")\n",
    "test_label = pd.read_csv(\"data/test_label.csv\")\n",
    "\n"
   ]
  },
  {
   "cell_type": "code",
   "execution_count": 3,
   "metadata": {},
   "outputs": [
    {
     "data": {
      "text/plain": [
       "(False, False)"
      ]
     },
     "execution_count": 3,
     "metadata": {},
     "output_type": "execute_result"
    }
   ],
   "source": [
    "# Check if there exists any nan value\n",
    "labeled.isnull().values.any(),unlabeled.isnull().values.any()"
   ]
  },
  {
   "cell_type": "code",
   "execution_count": 4,
   "metadata": {},
   "outputs": [
    {
     "data": {
      "text/html": [
       "<div>\n",
       "<style scoped>\n",
       "    .dataframe tbody tr th:only-of-type {\n",
       "        vertical-align: middle;\n",
       "    }\n",
       "\n",
       "    .dataframe tbody tr th {\n",
       "        vertical-align: top;\n",
       "    }\n",
       "\n",
       "    .dataframe thead th {\n",
       "        text-align: right;\n",
       "    }\n",
       "</style>\n",
       "<table border=\"1\" class=\"dataframe\">\n",
       "  <thead>\n",
       "    <tr style=\"text-align: right;\">\n",
       "      <th></th>\n",
       "      <th>text</th>\n",
       "      <th>label</th>\n",
       "    </tr>\n",
       "  </thead>\n",
       "  <tbody>\n",
       "    <tr>\n",
       "      <td>0</td>\n",
       "      <td>The new rule is - \\r\\nif you are waiting for a...</td>\n",
       "      <td>4</td>\n",
       "    </tr>\n",
       "    <tr>\n",
       "      <td>1</td>\n",
       "      <td>Flirted with giving this two stars, but that's...</td>\n",
       "      <td>3</td>\n",
       "    </tr>\n",
       "    <tr>\n",
       "      <td>2</td>\n",
       "      <td>I was staying at planet Hollywood across the s...</td>\n",
       "      <td>5</td>\n",
       "    </tr>\n",
       "    <tr>\n",
       "      <td>3</td>\n",
       "      <td>Food is good but prices are super expensive.  ...</td>\n",
       "      <td>2</td>\n",
       "    </tr>\n",
       "    <tr>\n",
       "      <td>4</td>\n",
       "      <td>Worse company to deal with they do horrible wo...</td>\n",
       "      <td>1</td>\n",
       "    </tr>\n",
       "  </tbody>\n",
       "</table>\n",
       "</div>"
      ],
      "text/plain": [
       "                                                text  label\n",
       "0  The new rule is - \\r\\nif you are waiting for a...      4\n",
       "1  Flirted with giving this two stars, but that's...      3\n",
       "2  I was staying at planet Hollywood across the s...      5\n",
       "3  Food is good but prices are super expensive.  ...      2\n",
       "4  Worse company to deal with they do horrible wo...      1"
      ]
     },
     "execution_count": 4,
     "metadata": {},
     "output_type": "execute_result"
    }
   ],
   "source": [
    "labeled.head()"
   ]
  },
  {
   "cell_type": "code",
   "execution_count": 5,
   "metadata": {},
   "outputs": [],
   "source": [
    "# clean data for preprocessing functions\n",
    "\n",
    "# Case Norm  \n",
    "# Tokenize: since I will use embeddings, it's better use gensim tokenize rather than NLTK\n",
    "# stop word: \"not\" in stop word lists, which could significantly affect sentiment classification. eg. \"good\" vs. \"not good\"\n",
    "# Removing by frequency\n",
    "\n",
    "# need further modify with checking real data\n",
    "# check token frequency\n",
    "\n",
    "def remove_symble(x):\n",
    "    # remove '\\r'\n",
    "    return x.replace('\\r',' ').replace('\\n',' ')\n",
    "\n",
    "def deal_with_oov(x):\n",
    "    # if using pre-trained embedding, dealing with oov\n",
    "    pass\n",
    "\n",
    "def remove_stopword(x, stopword = None):\n",
    "    # Caution, don't remove words like ..NO, NOT, etc\n",
    "    pass\n",
    "\n",
    "def clean_data(x):\n",
    "    x = remove_symble(x)\n",
    "    \n",
    "    return x"
   ]
  },
  {
   "cell_type": "code",
   "execution_count": 6,
   "metadata": {},
   "outputs": [],
   "source": [
    "# generate TF-IDF\n",
    "def generate_tfdf(x):\n",
    "    pass\n",
    "\n",
    "def generate_embedding(x, pre_trained):\n",
    "    pass"
   ]
  },
  {
   "cell_type": "code",
   "execution_count": 7,
   "metadata": {},
   "outputs": [
    {
     "data": {
      "text/html": [
       "<div>\n",
       "<style scoped>\n",
       "    .dataframe tbody tr th:only-of-type {\n",
       "        vertical-align: middle;\n",
       "    }\n",
       "\n",
       "    .dataframe tbody tr th {\n",
       "        vertical-align: top;\n",
       "    }\n",
       "\n",
       "    .dataframe thead th {\n",
       "        text-align: right;\n",
       "    }\n",
       "</style>\n",
       "<table border=\"1\" class=\"dataframe\">\n",
       "  <thead>\n",
       "    <tr style=\"text-align: right;\">\n",
       "      <th></th>\n",
       "      <th>text</th>\n",
       "      <th>label</th>\n",
       "      <th>clean_text</th>\n",
       "    </tr>\n",
       "  </thead>\n",
       "  <tbody>\n",
       "    <tr>\n",
       "      <td>0</td>\n",
       "      <td>The new rule is - \\r\\nif you are waiting for a...</td>\n",
       "      <td>4</td>\n",
       "      <td>The new rule is -   if you are waiting for a t...</td>\n",
       "    </tr>\n",
       "    <tr>\n",
       "      <td>1</td>\n",
       "      <td>Flirted with giving this two stars, but that's...</td>\n",
       "      <td>3</td>\n",
       "      <td>Flirted with giving this two stars, but that's...</td>\n",
       "    </tr>\n",
       "    <tr>\n",
       "      <td>2</td>\n",
       "      <td>I was staying at planet Hollywood across the s...</td>\n",
       "      <td>5</td>\n",
       "      <td>I was staying at planet Hollywood across the s...</td>\n",
       "    </tr>\n",
       "    <tr>\n",
       "      <td>3</td>\n",
       "      <td>Food is good but prices are super expensive.  ...</td>\n",
       "      <td>2</td>\n",
       "      <td>Food is good but prices are super expensive.  ...</td>\n",
       "    </tr>\n",
       "    <tr>\n",
       "      <td>4</td>\n",
       "      <td>Worse company to deal with they do horrible wo...</td>\n",
       "      <td>1</td>\n",
       "      <td>Worse company to deal with they do horrible wo...</td>\n",
       "    </tr>\n",
       "  </tbody>\n",
       "</table>\n",
       "</div>"
      ],
      "text/plain": [
       "                                                text  label  \\\n",
       "0  The new rule is - \\r\\nif you are waiting for a...      4   \n",
       "1  Flirted with giving this two stars, but that's...      3   \n",
       "2  I was staying at planet Hollywood across the s...      5   \n",
       "3  Food is good but prices are super expensive.  ...      2   \n",
       "4  Worse company to deal with they do horrible wo...      1   \n",
       "\n",
       "                                          clean_text  \n",
       "0  The new rule is -   if you are waiting for a t...  \n",
       "1  Flirted with giving this two stars, but that's...  \n",
       "2  I was staying at planet Hollywood across the s...  \n",
       "3  Food is good but prices are super expensive.  ...  \n",
       "4  Worse company to deal with they do horrible wo...  "
      ]
     },
     "execution_count": 7,
     "metadata": {},
     "output_type": "execute_result"
    }
   ],
   "source": [
    "def preprocessing(df):\n",
    "    df['clean_text'] = df['text'].apply(clean_data)\n",
    "    return df\n",
    "\n",
    "labeled = preprocessing(labeled)\n",
    "unlabeled = preprocessing(unlabeled)\n",
    "labeled.head()"
   ]
  },
  {
   "cell_type": "code",
   "execution_count": 8,
   "metadata": {},
   "outputs": [
    {
     "data": {
      "text/plain": [
       "('The new rule is - \\r\\nif you are waiting for a table (which you almost always are) , you cant wait inside. \\r\\nThey just posted a sign upfront that it causes some concerns for the seated patrons. \\r\\nHow awful is that? \\r\\n\\r\\nI like that they included the apology along with \"especially now in the cold\". \\r\\n\\r\\np.s you can try calling in ahead to reserve a table but thats ONLY if the waiting list is short. Otherwise, you have to show up to reserve. Boourns. \\r\\n\\r\\n\\r\\nThis place could do no wrong in my eyes. Rattle away you equally-clever/witty-name-for a hot beverage.\\r\\n\\r\\nMust mention - I am obsessed with Mad Gab. \\r\\n\\r\\nxoxo\\r\\nM.',\n",
       " 'The new rule is -   if you are waiting for a table (which you almost always are) , you cant wait inside.   They just posted a sign upfront that it causes some concerns for the seated patrons.   How awful is that?     I like that they included the apology along with \"especially now in the cold\".     p.s you can try calling in ahead to reserve a table but thats ONLY if the waiting list is short. Otherwise, you have to show up to reserve. Boourns.       This place could do no wrong in my eyes. Rattle away you equally-clever/witty-name-for a hot beverage.    Must mention - I am obsessed with Mad Gab.     xoxo  M.',\n",
       " 'The worst service I have ever had at a Starbucks. They were not friendly. They didn\\'t ask for any preferences for your drink. No smiles. No \"thank you\". They mixed up customers drinks and didn\\'t write their names on it so you didn\\'t know whose was whose. A lot of people order the same thing... So by mistake I took another customers because they just yelled out the drink type not the customers name. It felt as if they just wanted you in and out. When I ordered my sandwich she told me the total and didn\\'t ask if I wanted anything to drink, even though I did. Once I told her I also wanted a drink she didn\\'t ask if I had any preferences, just told me the total and started helping the next customer while I was still being rung out.',\n",
       " 'The worst service I have ever had at a Starbucks. They were not friendly. They didn\\'t ask for any preferences for your drink. No smiles. No \"thank you\". They mixed up customers drinks and didn\\'t write their names on it so you didn\\'t know whose was whose. A lot of people order the same thing... So by mistake I took another customers because they just yelled out the drink type not the customers name. It felt as if they just wanted you in and out. When I ordered my sandwich she told me the total and didn\\'t ask if I wanted anything to drink, even though I did. Once I told her I also wanted a drink she didn\\'t ask if I had any preferences, just told me the total and started helping the next customer while I was still being rung out.')"
      ]
     },
     "execution_count": 8,
     "metadata": {},
     "output_type": "execute_result"
    }
   ],
   "source": [
    "rand_pick = randrange(len(labeled))\n",
    "labeled['text'][0], labeled['clean_text'][0],labeled['text'][rand_pick], labeled['clean_text'][rand_pick]"
   ]
  },
  {
   "cell_type": "markdown",
   "metadata": {},
   "source": [
    "## TF-IDF\n",
    "> Using gensim\n",
    "!pip install gensim"
   ]
  },
  {
   "cell_type": "code",
   "execution_count": 10,
   "metadata": {},
   "outputs": [
    {
     "data": {
      "text/html": [
       "<div>\n",
       "<style scoped>\n",
       "    .dataframe tbody tr th:only-of-type {\n",
       "        vertical-align: middle;\n",
       "    }\n",
       "\n",
       "    .dataframe tbody tr th {\n",
       "        vertical-align: top;\n",
       "    }\n",
       "\n",
       "    .dataframe thead th {\n",
       "        text-align: right;\n",
       "    }\n",
       "</style>\n",
       "<table border=\"1\" class=\"dataframe\">\n",
       "  <thead>\n",
       "    <tr style=\"text-align: right;\">\n",
       "      <th></th>\n",
       "      <th>text</th>\n",
       "      <th>clean_text</th>\n",
       "    </tr>\n",
       "  </thead>\n",
       "  <tbody>\n",
       "    <tr>\n",
       "      <td>0</td>\n",
       "      <td>Had a good experience when my wife and I sat a...</td>\n",
       "      <td>Had a good experience when my wife and I sat a...</td>\n",
       "    </tr>\n",
       "    <tr>\n",
       "      <td>1</td>\n",
       "      <td>On my first to Montreal with my gf we came her...</td>\n",
       "      <td>On my first to Montreal with my gf we came her...</td>\n",
       "    </tr>\n",
       "    <tr>\n",
       "      <td>2</td>\n",
       "      <td>One of our favorite places to go when it's col...</td>\n",
       "      <td>One of our favorite places to go when it's col...</td>\n",
       "    </tr>\n",
       "    <tr>\n",
       "      <td>3</td>\n",
       "      <td>The doctor was very nice, got in in a good amo...</td>\n",
       "      <td>The doctor was very nice, got in in a good amo...</td>\n",
       "    </tr>\n",
       "    <tr>\n",
       "      <td>4</td>\n",
       "      <td>The Nook is an immediate phoenix staple!  I ca...</td>\n",
       "      <td>The Nook is an immediate phoenix staple!  I ca...</td>\n",
       "    </tr>\n",
       "  </tbody>\n",
       "</table>\n",
       "</div>"
      ],
      "text/plain": [
       "                                                text  \\\n",
       "0  Had a good experience when my wife and I sat a...   \n",
       "1  On my first to Montreal with my gf we came her...   \n",
       "2  One of our favorite places to go when it's col...   \n",
       "3  The doctor was very nice, got in in a good amo...   \n",
       "4  The Nook is an immediate phoenix staple!  I ca...   \n",
       "\n",
       "                                          clean_text  \n",
       "0  Had a good experience when my wife and I sat a...  \n",
       "1  On my first to Montreal with my gf we came her...  \n",
       "2  One of our favorite places to go when it's col...  \n",
       "3  The doctor was very nice, got in in a good amo...  \n",
       "4  The Nook is an immediate phoenix staple!  I ca...  "
      ]
     },
     "execution_count": 10,
     "metadata": {},
     "output_type": "execute_result"
    }
   ],
   "source": [
    "unlabeled.head()"
   ]
  },
  {
   "cell_type": "code",
   "execution_count": 11,
   "metadata": {},
   "outputs": [],
   "source": [
    "# use gensim simple_preprocessing: include case Norm\n",
    "label_texts = [gensim.utils.simple_preprocess(i) for i in labeled['clean_text']]\n",
    "unlabel_texts = [gensim.utils.simple_preprocess(i) for i in unlabeled['clean_text']]\n",
    "texts = label_texts + unlabel_texts"
   ]
  },
  {
   "cell_type": "code",
   "execution_count": 12,
   "metadata": {},
   "outputs": [],
   "source": [
    "dictionary = gensim.corpora.Dictionary(texts)\n",
    "dictionary.save('./serialize/texts.dict')\n",
    "corpus = [dictionary.doc2bow(text) for text in texts]\n",
    "gensim.corpora.MmCorpus.serialize('./serialize/texts.mm', corpus)\n",
    "tfidf = gensim.models.TfidfModel(corpus)\n",
    "corpus_tfidf = tfidf[corpus]"
   ]
  },
  {
   "cell_type": "code",
   "execution_count": 21,
   "metadata": {},
   "outputs": [],
   "source": [
    "tfidf.save(\"./serialize/model.tfidf\") #save \n",
    "tfidf = models.TfidfModel.load(\"./model.tfidf\") #next time just load "
   ]
  },
  {
   "cell_type": "code",
   "execution_count": 22,
   "metadata": {},
   "outputs": [],
   "source": [
    "#len([print(k,v) for k, v in corpus_tfidf[0]])"
   ]
  },
  {
   "cell_type": "code",
   "execution_count": 23,
   "metadata": {},
   "outputs": [
    {
     "data": {
      "text/plain": [
       "178811"
      ]
     },
     "execution_count": 23,
     "metadata": {},
     "output_type": "execute_result"
    }
   ],
   "source": [
    "# vocab size \n",
    "len(dictionary)"
   ]
  },
  {
   "cell_type": "code",
   "execution_count": null,
   "metadata": {},
   "outputs": [],
   "source": [
    "def construct_matrix(length, values):\n",
    "    vector = [0] * length\n",
    "    for k, v in values:\n",
    "        vector[k] = v\n",
    "\n",
    "    return vector\n",
    "\n",
    "sparse_tfidf = []\n",
    "for sentence in corpus_tfidf:\n",
    "    sparse_tfidf.append(construct_matrix(len(dictionary), sentence))"
   ]
  }
 ],
 "metadata": {
  "kernelspec": {
   "display_name": "Python 3",
   "language": "python",
   "name": "python3"
  },
  "language_info": {
   "codemirror_mode": {
    "name": "ipython",
    "version": 3
   },
   "file_extension": ".py",
   "mimetype": "text/x-python",
   "name": "python",
   "nbconvert_exporter": "python",
   "pygments_lexer": "ipython3",
   "version": "3.6.5"
  }
 },
 "nbformat": 4,
 "nbformat_minor": 2
}
